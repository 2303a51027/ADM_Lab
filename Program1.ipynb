{
  "nbformat": 4,
  "nbformat_minor": 0,
  "metadata": {
    "colab": {
      "provenance": [],
      "authorship_tag": "ABX9TyO/R2+FDGL2bBP3ImQYe988",
      "include_colab_link": true
    },
    "kernelspec": {
      "name": "python3",
      "display_name": "Python 3"
    },
    "language_info": {
      "name": "python"
    }
  },
  "cells": [
    {
      "cell_type": "markdown",
      "metadata": {
        "id": "view-in-github",
        "colab_type": "text"
      },
      "source": [
        "<a href=\"https://colab.research.google.com/github/2303a51027/ADM_Lab/blob/main/Program1.ipynb\" target=\"_parent\"><img src=\"https://colab.research.google.com/assets/colab-badge.svg\" alt=\"Open In Colab\"/></a>"
      ]
    },
    {
      "cell_type": "code",
      "execution_count": 2,
      "metadata": {
        "colab": {
          "base_uri": "https://localhost:8080/"
        },
        "id": "QxQ01w_m1HMg",
        "outputId": "1dfd9677-8ec5-4cc6-c0e4-5fd0873f70bc"
      },
      "outputs": [
        {
          "output_type": "stream",
          "name": "stdout",
          "text": [
            "0    1\n",
            "1    3\n",
            "2    5\n",
            "3    7\n",
            "4    9\n",
            "dtype: int64\n"
          ]
        }
      ],
      "source": [
        "import pandas as pd\n",
        "\n",
        "data = pd.Series([1, 3, 5, 7, 9])\n",
        "print(data)"
      ]
    },
    {
      "cell_type": "markdown",
      "source": [
        "### Addition of Data Series"
      ],
      "metadata": {
        "id": "AZmSd60x11bZ"
      }
    },
    {
      "cell_type": "code",
      "source": [
        "ds1 = pd.Series([1, 2, 3, 4, 5])\n",
        "ds2 = pd.Series([2, 3, 3, 6, 8])\n",
        "\n",
        "ds = ds1 + ds2\n",
        "print(ds)"
      ],
      "metadata": {
        "colab": {
          "base_uri": "https://localhost:8080/"
        },
        "id": "LqZTDhuz16uE",
        "outputId": "d9d57636-2bfa-4b74-c534-81b0d1ea0184"
      },
      "execution_count": 3,
      "outputs": [
        {
          "output_type": "stream",
          "name": "stdout",
          "text": [
            "0     3\n",
            "1     5\n",
            "2     6\n",
            "3    10\n",
            "4    13\n",
            "dtype: int64\n"
          ]
        }
      ]
    },
    {
      "cell_type": "markdown",
      "source": [
        "## Subtraction of Data Series"
      ],
      "metadata": {
        "id": "1RX4aFsr2owq"
      }
    },
    {
      "cell_type": "code",
      "source": [
        "ds1 = pd.Series([1, 2, 3, 4, 5])\n",
        "ds2 = pd.Series([2, 3, 3, 6, 8])\n",
        "\n",
        "ds = ds1 - ds2\n",
        "print(ds)"
      ],
      "metadata": {
        "colab": {
          "base_uri": "https://localhost:8080/"
        },
        "id": "YktC7UQs2slr",
        "outputId": "5baef8b5-7ca4-4cae-d567-7c972b014690"
      },
      "execution_count": 6,
      "outputs": [
        {
          "output_type": "stream",
          "name": "stdout",
          "text": [
            "0   -1\n",
            "1   -1\n",
            "2    0\n",
            "3   -2\n",
            "4   -3\n",
            "dtype: int64\n"
          ]
        }
      ]
    },
    {
      "cell_type": "markdown",
      "source": [
        "## Product of Data Series"
      ],
      "metadata": {
        "id": "QcJy06lW2ObC"
      }
    },
    {
      "cell_type": "code",
      "source": [
        "ds1 = pd.Series([1, 2, 3, 4, 5])\n",
        "ds2 = pd.Series([2, 3, 3, 6, 8])\n",
        "\n",
        "ds = ds1 * ds2\n",
        "print(ds)"
      ],
      "metadata": {
        "colab": {
          "base_uri": "https://localhost:8080/"
        },
        "id": "J4FyGlBt2SDv",
        "outputId": "7703777c-c71a-4c80-c17b-db5b63e6fa69"
      },
      "execution_count": 4,
      "outputs": [
        {
          "output_type": "stream",
          "name": "stdout",
          "text": [
            "0     2\n",
            "1     6\n",
            "2     9\n",
            "3    24\n",
            "4    40\n",
            "dtype: int64\n"
          ]
        }
      ]
    },
    {
      "cell_type": "markdown",
      "source": [
        "## Division of Data Series"
      ],
      "metadata": {
        "id": "v1ykTeTx2flT"
      }
    },
    {
      "cell_type": "code",
      "source": [
        "ds1 = pd.Series([1, 2, 3, 4, 5])\n",
        "ds2 = pd.Series([2, 3, 3, 6, 8])\n",
        "\n",
        "ds = ds1 / ds2\n",
        "print(ds)"
      ],
      "metadata": {
        "colab": {
          "base_uri": "https://localhost:8080/"
        },
        "id": "Gcr4nAjS2kZ1",
        "outputId": "668ccdb4-cf02-476e-c165-342bf9972656"
      },
      "execution_count": 5,
      "outputs": [
        {
          "output_type": "stream",
          "name": "stdout",
          "text": [
            "0    0.500000\n",
            "1    0.666667\n",
            "2    1.000000\n",
            "3    0.666667\n",
            "4    0.625000\n",
            "dtype: float64\n"
          ]
        }
      ]
    },
    {
      "cell_type": "markdown",
      "source": [
        "# Import drive"
      ],
      "metadata": {
        "id": "TNMUk2Q25rrS"
      }
    },
    {
      "cell_type": "code",
      "source": [
        "from google.colab import drive\n",
        "drive.mount('/content/drive')\n"
      ],
      "metadata": {
        "colab": {
          "base_uri": "https://localhost:8080/"
        },
        "id": "UOFZvU4n4KZO",
        "outputId": "61d47453-4679-4a14-c181-85a82cb4cdf4"
      },
      "execution_count": 7,
      "outputs": [
        {
          "output_type": "stream",
          "name": "stdout",
          "text": [
            "Mounted at /content/drive\n"
          ]
        }
      ]
    },
    {
      "cell_type": "code",
      "source": [
        "#df=pd.read_csv(\"/content/banklist.csv\")\n",
        "#df"
      ],
      "metadata": {
        "id": "Znxxh_-H6spm"
      },
      "execution_count": 8,
      "outputs": []
    },
    {
      "cell_type": "code",
      "source": [
        "path = '/content/banklist.csv'\n",
        "data = pd.read_csv(path)\n",
        "data.head()\n",
        "print(data.isnull().sum())"
      ],
      "metadata": {
        "colab": {
          "base_uri": "https://localhost:8080/"
        },
        "id": "BLGNIp_766xp",
        "outputId": "a1a11304-34b6-4513-882a-161ba0d9849a"
      },
      "execution_count": 11,
      "outputs": [
        {
          "output_type": "stream",
          "name": "stdout",
          "text": [
            "Bank Name                0\n",
            "City                     0\n",
            "ST                       0\n",
            "CERT                     0\n",
            "Acquiring Institution    0\n",
            "Closing Date             0\n",
            "Updated Date             0\n",
            "dtype: int64\n"
          ]
        }
      ]
    }
  ]
}